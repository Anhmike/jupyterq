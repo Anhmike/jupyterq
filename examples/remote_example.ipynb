{
 "cells": [
  {
   "cell_type": "markdown",
   "metadata": {},
   "source": [
    "### Executing code in a remote process\n",
    "\n",
    "Suppose we wanted to use some functions defined in the following q process: "
   ]
  },
  {
   "cell_type": "code",
   "execution_count": 1,
   "metadata": {
    "collapsed": false
   },
   "outputs": [
    {
     "data": {
      "text/plain": []
     },
     "execution_count": 1,
     "metadata": {},
     "output_type": "execute_result"
    }
   ],
   "source": [
    "/ Open another q process\n",
    "system $[.z.o like\"w*\";\"start \";],\"q rmt.q -p 4044\""
   ]
  },
  {
   "cell_type": "markdown",
   "metadata": {},
   "source": [
    "The file ``rmt.q`` contains the following code:"
   ]
  },
  {
   "cell_type": "code",
   "execution_count": null,
   "metadata": {
    "collapsed": true
   },
   "outputs": [],
   "source": [
    "/ run the cell to see the content of the file\n",
    "/%loadscript rmt.q"
   ]
  },
  {
   "cell_type": "markdown",
   "metadata": {},
   "source": [
    "This allows to call the functions in the process either synchronously or asynchronously using a handle:"
   ]
  },
  {
   "cell_type": "code",
   "execution_count": 2,
   "metadata": {
    "collapsed": false,
    "scrolled": true
   },
   "outputs": [
    {
     "data": {
      "text/plain": [
       "5\r\n"
      ]
     },
     "execution_count": 2,
     "metadata": {},
     "output_type": "execute_result"
    }
   ],
   "source": [
    "/ Open connection\n",
    "h:hopen`::4044\n",
    "\n",
    "/ Synchronous\n",
    "h\"add . 2 3\"\n",
    "/Asynchronous\n",
    "neg[h]\"add . 3 3\""
   ]
  },
  {
   "cell_type": "markdown",
   "metadata": {},
   "source": [
    "In addition, as the script ```jupyterq_remote.q``` is loaded in the remote process, ```/%remote handle``` allows to run code in the remote process easily:"
   ]
  },
  {
   "cell_type": "code",
   "execution_count": 1,
   "metadata": {
    "collapsed": false
   },
   "outputs": [],
   "source": [
    "/%remote h\n",
    "hello:f(\"Hello\";\"World\")\n",
    "table:rndtab 100"
   ]
  },
  {
   "cell_type": "markdown",
   "metadata": {},
   "source": [
    "And completion or help can be used as if the remote process was the server process the notebook is running:"
   ]
  },
  {
   "cell_type": "code",
   "execution_count": null,
   "metadata": {
    "collapsed": false
   },
   "outputs": [],
   "source": [
    "/%remote h\n",
    "ad   / place your cursor anywhere in the word and hit tab\n",
    "tab    / if you place your cursor in this word and hit TAB you should see a drop down with table and tables\n",
    "rndtab / if you place your cursor anywhere and hit SHIFT TA, you should obtain info about the function"
   ]
  },
  {
   "cell_type": "markdown",
   "metadata": {},
   "source": [
    "Variable ``hello`` in the remote process should contain the string \"Hello World\":"
   ]
  },
  {
   "cell_type": "code",
   "execution_count": 3,
   "metadata": {
    "collapsed": false
   },
   "outputs": [
    {
     "data": {
      "text/plain": [
       "1b\r\n"
      ]
     },
     "execution_count": 3,
     "metadata": {},
     "output_type": "execute_result"
    }
   ],
   "source": [
    "\"Hello World\"~h\"hello\""
   ]
  },
  {
   "cell_type": "markdown",
   "metadata": {},
   "source": [
    "And ``table`` is a table that we can query:"
   ]
  },
  {
   "cell_type": "code",
   "execution_count": 2,
   "metadata": {
    "collapsed": false
   },
   "outputs": [
    {
     "data": {
      "text/plain": [
       "time         sym price   \r\n",
       "-------------------------\r\n",
       "00:16:31.025 A   15.17091\r\n",
       "00:32:08.956 A   15.1598 \r\n",
       "01:15:49.472 A   14.11597\r\n",
       "01:23:51.162 A   10.83889\r\n",
       "01:28:03.675 A   11.95991\r\n",
       "01:42:57.587 A   13.75638\r\n",
       "02:01:41.131 A   16.13745\r\n",
       "03:13:29.907 A   19.49975\r\n",
       "03:28:48.269 A   15.75905\r\n",
       "04:15:16.827 A   10.81235\r\n",
       "04:53:08.684 A   19.44167\r\n",
       "05:28:08.747 A   10.13921\r\n",
       "05:31:41.221 A   17.14878\r\n",
       "05:38:18.182 A   11.94651\r\n",
       "06:44:20.731 A   19.32632\r\n",
       "07:02:54.903 A   10.57525\r\n",
       "07:16:54.852 A   12.56066\r\n",
       "07:24:52.364 A   11.02443\r\n",
       "07:29:31.107 A   18.6711 \r\n",
       "08:04:51.809 A   17.5201 \r\n",
       "..\r\n"
      ]
     },
     "execution_count": 2,
     "metadata": {},
     "output_type": "execute_result"
    },
    {
     "data": {
      "text/plain": [
       "sym| price   \r\n",
       "---| --------\r\n",
       "A  | 15.18263\r\n",
       "B  | 14.2251 \r\n",
       "C  | 15.23465\r\n"
      ]
     },
     "execution_count": 2,
     "metadata": {},
     "output_type": "execute_result"
    }
   ],
   "source": [
    "/%remote h\n",
    "select from table where sym=`A\n",
    "select avg price by sym from table"
   ]
  },
  {
   "cell_type": "markdown",
   "metadata": {},
   "source": [
    "Or load in the notebook:"
   ]
  },
  {
   "cell_type": "code",
   "execution_count": 4,
   "metadata": {
    "collapsed": false
   },
   "outputs": [
    {
     "data": {
      "text/plain": [
       "time         sym price   \r\n",
       "-------------------------\r\n",
       "00:03:17.484 C   13.92752\r\n",
       "00:16:31.025 A   15.17091\r\n",
       "00:32:08.956 A   15.1598 \r\n",
       "00:33:10.867 B   14.06664\r\n",
       "00:44:37.591 C   11.78084\r\n",
       "00:53:08.324 B   13.01772\r\n",
       "00:53:31.660 C   17.85033\r\n",
       "01:04:18.632 B   15.3471 \r\n",
       "01:11:57.854 B   17.11172\r\n",
       "01:15:49.472 A   14.11597\r\n"
      ]
     },
     "execution_count": 4,
     "metadata": {},
     "output_type": "execute_result"
    },
    {
     "data": {
      "text/plain": [
       "time         sym price   \r\n",
       "-------------------------\r\n",
       "00:03:17.484 C   13.92752\r\n",
       "00:33:10.867 B   14.06664\r\n",
       "00:44:37.591 C   11.78084\r\n",
       "00:53:08.324 B   13.01772\r\n",
       "01:15:49.472 A   14.11597\r\n",
       "01:17:27.614 C   14.93183\r\n",
       "01:23:51.162 A   10.83889\r\n",
       "01:28:03.675 A   11.95991\r\n",
       "01:42:57.587 A   13.75638\r\n",
       "02:33:08.380 B   12.29662\r\n",
       "02:43:26.164 C   14.70788\r\n",
       "03:07:08.088 B   12.30638\r\n",
       "03:27:45.539 C   14.39081\r\n",
       "04:03:04.576 C   13.89056\r\n",
       "04:06:03.749 B   13.91543\r\n",
       "04:15:16.827 A   10.81235\r\n",
       "04:20:03.661 B   12.78212\r\n",
       "04:26:56.542 C   12.39234\r\n",
       "04:28:21.989 B   11.50813\r\n",
       "04:34:15.435 B   11.56732\r\n",
       "..\r\n"
      ]
     },
     "execution_count": 4,
     "metadata": {},
     "output_type": "execute_result"
    }
   ],
   "source": [
    "10#t:h\"table\"\n",
    "select from t where price<15"
   ]
  },
  {
   "cell_type": "code",
   "execution_count": 5,
   "metadata": {
    "collapsed": false
   },
   "outputs": [],
   "source": [
    "/ Close q process\n",
    "neg[h](exit;0);"
   ]
  }
 ],
 "metadata": {
  "kernelspec": {
   "display_name": "Q (kdb+)",
   "language": "q",
   "name": "qpk"
  },
  "language_info": {
   "file_extension": ".q",
   "mimetype": "text/x-q",
   "name": "q",
   "version": "3.6.0"
  }
 },
 "nbformat": 4,
 "nbformat_minor": 2
}
